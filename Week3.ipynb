{
  "nbformat": 4,
  "nbformat_minor": 0,
  "metadata": {
    "colab": {
      "name": "Week3.ipynb",
      "provenance": [],
      "collapsed_sections": [],
      "authorship_tag": "ABX9TyNjNQ+yjik9FWZH9UotbuLO",
      "include_colab_link": true
    },
    "kernelspec": {
      "name": "python3",
      "display_name": "Python 3"
    },
    "language_info": {
      "name": "python"
    }
  },
  "cells": [
    {
      "cell_type": "markdown",
      "metadata": {
        "id": "view-in-github",
        "colab_type": "text"
      },
      "source": [
        "<a href=\"https://colab.research.google.com/github/Suhas598/python_smp/blob/master/Week3.ipynb\" target=\"_parent\"><img src=\"https://colab.research.google.com/assets/colab-badge.svg\" alt=\"Open In Colab\"/></a>"
      ]
    },
    {
      "cell_type": "markdown",
      "metadata": {
        "id": "5yhEnBnWLlpX"
      },
      "source": [
        "Q1"
      ]
    },
    {
      "cell_type": "code",
      "metadata": {
        "id": "jNmQwSAg5Csb",
        "colab": {
          "base_uri": "https://localhost:8080/"
        },
        "outputId": "1c37cc88-7929-4fdd-ed7c-7b59c1034d05"
      },
      "source": [
        "#combining dictionaries\n",
        "dict1 = { 'a':10, 'b':20, 'c':30, 'd':40}\n",
        "dict2 = { 'a':40, \"B\":40, 'c':40, \"D\":40}\n",
        "for key in dict1:\n",
        "  if key in dict2:\n",
        "    dict2[key] += dict1[key]\n",
        "  else:\n",
        "    dict2[key] = dict1[key]\n",
        "print( dict2)"
      ],
      "execution_count": 4,
      "outputs": [
        {
          "output_type": "stream",
          "text": [
            "{'a': 50, 'B': 40, 'c': 70, 'D': 40, 'b': 20, 'd': 40}\n"
          ],
          "name": "stdout"
        }
      ]
    },
    {
      "cell_type": "markdown",
      "metadata": {
        "id": "oXfmXIf1Lnnq"
      },
      "source": [
        "Q2"
      ]
    },
    {
      "cell_type": "code",
      "metadata": {
        "colab": {
          "base_uri": "https://localhost:8080/"
        },
        "id": "tTHGIaQCLh1U",
        "outputId": "e6c49292-516e-4c43-c9b8-d7430c75967d"
      },
      "source": [
        "#frequency of each character\n",
        "string = \"WAP to print the total number of occurrences\"\n",
        "dict={}\n",
        "for x in range(len(string)):\n",
        "  count=0\n",
        "  for y in string:\n",
        "    if (string[x]==y):\n",
        "      count+=1\n",
        "  dict[string[x]]=count\n",
        "print(dict)"
      ],
      "execution_count": 11,
      "outputs": [
        {
          "output_type": "stream",
          "text": [
            "{'W': 1, 'A': 1, 'P': 1, ' ': 7, 't': 5, 'o': 4, 'p': 1, 'r': 4, 'i': 1, 'n': 3, 'h': 1, 'e': 4, 'a': 1, 'l': 1, 'u': 2, 'm': 1, 'b': 1, 'f': 1, 'c': 3, 's': 1}\n"
          ],
          "name": "stdout"
        }
      ]
    },
    {
      "cell_type": "markdown",
      "metadata": {
        "id": "p27YkBeHQ5tH"
      },
      "source": [
        "Q3"
      ]
    },
    {
      "cell_type": "code",
      "metadata": {
        "colab": {
          "base_uri": "https://localhost:8080/"
        },
        "id": "cQerjLy0Q63n",
        "outputId": "a993da53-4263-4d7b-dc44-de5eedae5ec3"
      },
      "source": [
        "#to extract till all characters from other string are found.\n",
        "string1 = \"An apple a day keeps the doctor away\"\n",
        "string2 = \"water\"\n",
        "for x in range(1, len(string1)):\n",
        "    temp = string1[:x]\n",
        "    if all([char in temp for char in string2]):\n",
        "      result = temp\n",
        "      break\n",
        "print(result)\n"
      ],
      "execution_count": 15,
      "outputs": [
        {
          "output_type": "stream",
          "text": [
            "An apple a day keeps the doctor aw\n"
          ],
          "name": "stdout"
        }
      ]
    },
    {
      "cell_type": "markdown",
      "metadata": {
        "id": "Nii_bdYyVfm6"
      },
      "source": [
        "Q4"
      ]
    },
    {
      "cell_type": "code",
      "metadata": {
        "colab": {
          "base_uri": "https://localhost:8080/"
        },
        "id": "mzOQxEOeViC-",
        "outputId": "1bfd04ad-5d1e-4ca6-83fd-bbd80942d220"
      },
      "source": [
        "#frequency of word in string\n",
        "str1 = input(\"Enter string: \")\n",
        "str2 = \"are\"\n",
        "count=0\n",
        "a = str1.split()\n",
        "\n",
        "for x in range(len(a)):\n",
        "  if(str2 == a[x]):\n",
        "    count+=1\n",
        "print(\"Frequency of 'are' is: \", count)"
      ],
      "execution_count": 22,
      "outputs": [
        {
          "output_type": "stream",
          "text": [
            "Enter string: You are not coming, are you?\n",
            "Frequency of 'are' is:  2\n"
          ],
          "name": "stdout"
        }
      ]
    }
  ]
}