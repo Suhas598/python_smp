{
  "nbformat": 4,
  "nbformat_minor": 0,
  "metadata": {
    "colab": {
      "name": "Week2",
      "provenance": [],
      "collapsed_sections": [],
      "authorship_tag": "ABX9TyOXOeHJ2gSH8SYgHR1zVwb9",
      "include_colab_link": true
    },
    "kernelspec": {
      "name": "python3",
      "display_name": "Python 3"
    },
    "language_info": {
      "name": "python"
    }
  },
  "cells": [
    {
      "cell_type": "markdown",
      "metadata": {
        "id": "view-in-github",
        "colab_type": "text"
      },
      "source": [
        "<a href=\"https://colab.research.google.com/github/Suhas598/python_smp/blob/master/Week2.ipynb\" target=\"_parent\"><img src=\"https://colab.research.google.com/assets/colab-badge.svg\" alt=\"Open In Colab\"/></a>"
      ]
    },
    {
      "cell_type": "markdown",
      "metadata": {
        "id": "7hGEdqaICURn"
      },
      "source": [
        "Q1"
      ]
    },
    {
      "cell_type": "code",
      "metadata": {
        "colab": {
          "base_uri": "https://localhost:8080/"
        },
        "id": "J0OmOiVIh1QK",
        "outputId": "0d09b37b-6c41-4ecf-f697-4cbc1fd62991"
      },
      "source": [
        "list1 = [1,2,3,3,1,2,10]\n",
        "for i in range(len(list1)):\n",
        "  for j in range(len(list1)):\n",
        "    if(i!=j):\n",
        "      if list1[i] == list1[j]:\n",
        "        flag = 1\n",
        "if(flag==1):\n",
        "  print(\"List has duplicate elements\")\n",
        "else:\n",
        "  print(\"List doesnt contain duplicates\")"
      ],
      "execution_count": null,
      "outputs": [
        {
          "output_type": "stream",
          "text": [
            "List has duplicate elements\n"
          ],
          "name": "stdout"
        }
      ]
    },
    {
      "cell_type": "markdown",
      "metadata": {
        "id": "0chjBL8OCbuQ"
      },
      "source": [
        "Q2"
      ]
    },
    {
      "cell_type": "code",
      "metadata": {
        "colab": {
          "base_uri": "https://localhost:8080/"
        },
        "id": "0x1Tvp3dqH7_",
        "outputId": "52afae38-2e71-4d52-a85b-ad941b5d6a60"
      },
      "source": [
        "if (len(list1)==len(set (list1))):\n",
        "  print(\"List is unique\")\n",
        "else:\n",
        "  print(\"List is not unique\")\n"
      ],
      "execution_count": null,
      "outputs": [
        {
          "output_type": "stream",
          "text": [
            "List is not unique\n"
          ],
          "name": "stdout"
        }
      ]
    },
    {
      "cell_type": "markdown",
      "metadata": {
        "id": "NT1xucGJCeqX"
      },
      "source": [
        "Q3"
      ]
    },
    {
      "cell_type": "code",
      "metadata": {
        "colab": {
          "base_uri": "https://localhost:8080/"
        },
        "id": "OLWtuCWYrHE_",
        "outputId": "f659c178-efe5-4cad-fdda-a0105d5adfed"
      },
      "source": [
        "#Removing duplicate elements\n",
        "list2 = [1,2,1,2,1,2,1,2,1]\n",
        "print(set (list1))\n",
        "print(set (list2))"
      ],
      "execution_count": null,
      "outputs": [
        {
          "output_type": "stream",
          "text": [
            "{10, 1, 2, 3}\n",
            "{1, 2}\n"
          ],
          "name": "stdout"
        }
      ]
    },
    {
      "cell_type": "markdown",
      "metadata": {
        "id": "5-7aDvv_Cgpw"
      },
      "source": [
        "Q4"
      ]
    },
    {
      "cell_type": "code",
      "metadata": {
        "colab": {
          "base_uri": "https://localhost:8080/"
        },
        "id": "bpqGOb8-rsMk",
        "outputId": "eccbda4a-a3e1-4de7-c53e-80bf50724def"
      },
      "source": [
        "#checking if subset of other\n",
        "A = {1,2,3}\n",
        "B = {1,2,3,4,5}\n",
        "if(A&B==A or A&B==B):\n",
        "  print(True)\n",
        "else:\n",
        "  print(False)\n"
      ],
      "execution_count": null,
      "outputs": [
        {
          "output_type": "stream",
          "text": [
            "True\n"
          ],
          "name": "stdout"
        }
      ]
    },
    {
      "cell_type": "markdown",
      "metadata": {
        "id": "JTgljdZWCh43"
      },
      "source": [
        "Q5"
      ]
    },
    {
      "cell_type": "code",
      "metadata": {
        "colab": {
          "base_uri": "https://localhost:8080/"
        },
        "id": "vII8vG3ZzXxE",
        "outputId": "d88df727-fd52-4ba0-9f28-88b82cdcf668"
      },
      "source": [
        "#element wise sum\n",
        "a = (9,8,7,6); b=(1,1)\n",
        "A = list (a); B = list (b)\n",
        "if (len(A)>=len(B)):\n",
        "  for x in range(len(B)):\n",
        "    A[x] += B[x]\n",
        "  print(tuple (A))\n",
        "else:\n",
        "  for x in range(len(A)):\n",
        "    B[x]+= A[x]\n",
        "  print(tuple (B))\n",
        "\n"
      ],
      "execution_count": null,
      "outputs": [
        {
          "output_type": "stream",
          "text": [
            "(10, 9, 7, 6)\n"
          ],
          "name": "stdout"
        }
      ]
    },
    {
      "cell_type": "code",
      "metadata": {
        "colab": {
          "base_uri": "https://localhost:8080/"
        },
        "id": "NgNopuU85_yE",
        "outputId": "747f4b1d-0693-41c1-85b1-d810968b8e5c"
      },
      "source": [
        "#elementwise sum of tuples with equal number of elements\n",
        "a = (1,2,3); b = (4,5,6)\n",
        "c = tuple (map(sum,zip(a,b))) #zip() pairs the tuple elements, sum is the function, map applies the fn to each ele\n",
        "print(c)"
      ],
      "execution_count": null,
      "outputs": [
        {
          "output_type": "stream",
          "text": [
            "(5, 7, 9)\n"
          ],
          "name": "stdout"
        }
      ]
    },
    {
      "cell_type": "markdown",
      "metadata": {
        "id": "Kq_7VUXoCjKn"
      },
      "source": [
        "Q6"
      ]
    },
    {
      "cell_type": "code",
      "metadata": {
        "colab": {
          "base_uri": "https://localhost:8080/"
        },
        "id": "2Y4dR84_44px",
        "outputId": "8928deb2-87aa-46ea-bb1d-56b8cfc3dde6"
      },
      "source": [
        "#tuple to integer\n",
        "a = (25,2,10)\n",
        "b = int(\"\".join(map(str,a)))\n",
        "print(b)\n",
        "  "
      ],
      "execution_count": null,
      "outputs": [
        {
          "output_type": "stream",
          "text": [
            "25210\n"
          ],
          "name": "stdout"
        }
      ]
    }
  ]
}