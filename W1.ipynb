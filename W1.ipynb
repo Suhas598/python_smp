{
 "metadata": {
  "language_info": {
   "codemirror_mode": {
    "name": "ipython",
    "version": 3
   },
   "file_extension": ".py",
   "mimetype": "text/x-python",
   "name": "python",
   "nbconvert_exporter": "python",
   "pygments_lexer": "ipython3",
   "version": "3.9.5"
  },
  "orig_nbformat": 2,
  "kernelspec": {
   "name": "python395jvsc74a57bd0fc08b241faa789b56a415aba4ff7a508dcb6f994a544ed03109469a7edb5954b",
   "display_name": "Python 3.9.5 64-bit"
  },
  "metadata": {
   "interpreter": {
    "hash": "fc08b241faa789b56a415aba4ff7a508dcb6f994a544ed03109469a7edb5954b"
   }
  }
 },
 "nbformat": 4,
 "nbformat_minor": 2,
 "cells": [
  {
   "cell_type": "code",
   "execution_count": 7,
   "metadata": {},
   "outputs": [
    {
     "output_type": "stream",
     "name": "stdout",
     "text": [
      "7.3 plus 5+4j=  (12.3+4j)\n"
     ]
    }
   ],
   "source": [
    "a=7.3 + 5+4j\n",
    "print('7.3 plus 5+4j= ',a)"
   ]
  },
  {
   "cell_type": "code",
   "execution_count": 8,
   "metadata": {},
   "outputs": [
    {
     "output_type": "stream",
     "name": "stdout",
     "text": [
      "True\n"
     ]
    }
   ],
   "source": [
    "b=4e4 \n",
    "c=4E4\n",
    "if b == c:\n",
    "    print(True)\n",
    "else: \n",
    "    print(False)"
   ]
  },
  {
   "cell_type": "code",
   "execution_count": 9,
   "metadata": {},
   "outputs": [
    {
     "output_type": "stream",
     "name": "stdout",
     "text": [
      "Real= 3.0 Imaginary= 4.0\n"
     ]
    }
   ],
   "source": [
    "d=3+4j\n",
    "r=d.real\n",
    "i=d.imag\n",
    "print('Real=', r,\"Imaginary=\", i )"
   ]
  },
  {
   "cell_type": "code",
   "execution_count": 10,
   "metadata": {},
   "outputs": [
    {
     "output_type": "stream",
     "name": "stdout",
     "text": [
      "e= 2.718281828459045\n2\n"
     ]
    }
   ],
   "source": [
    "import math\n",
    "print('e=', math.exp(1))\n",
    "e=math.exp(1)\n",
    "print (math.trunc(e))"
   ]
  },
  {
   "cell_type": "code",
   "execution_count": 11,
   "metadata": {},
   "outputs": [
    {
     "output_type": "stream",
     "name": "stdout",
     "text": [
      "<class 'dict'>\nname: Suhas \nroll: 201ec263 \nbranch: ece\n"
     ]
    }
   ],
   "source": [
    "def fun(**test):\n",
    "    print(type(test))\n",
    "    print('name:', test['name'], '\\nroll:', test['roll'], \"\\nbranch:\", test['branch'])\n",
    "fun(name = 'Suhas', roll=\"201ec263\", branch='ece')"
   ]
  },
  {
   "cell_type": "code",
   "execution_count": 12,
   "metadata": {},
   "outputs": [
    {
     "output_type": "stream",
     "name": "stdout",
     "text": [
      "Factorial= 120\n"
     ]
    }
   ],
   "source": [
    "def factorial(n):\n",
    "    if n<0:\n",
    "        return 0\n",
    "    elif (n==0 or n==1):\n",
    "        return 1\n",
    "    else:\n",
    "        fact=1\n",
    "        while(n>1):\n",
    "            fact=fact*n\n",
    "            n=n-1\n",
    "        return fact\n",
    "\n",
    "n=int(input(\"Enter a number: \"))\n",
    "print(\"Factorial=\",factorial(n))"
   ]
  },
  {
   "cell_type": "code",
   "execution_count": 13,
   "metadata": {},
   "outputs": [
    {
     "output_type": "stream",
     "name": "stdout",
     "text": [
      "0\n1\n1\n2\n3\n5\n"
     ]
    }
   ],
   "source": [
    "n=int(input(\"Enter a number:\"))\n",
    "a=0;b=1;c=0\n",
    "\n",
    "if n<0:\n",
    "    print('invalid input')\n",
    "elif n == 0:\n",
    "    print(a)\n",
    "elif n==1:\n",
    "    print(b)\n",
    "else:\n",
    "    while c<=n:\n",
    "        print(a)\n",
    "        c=a+b\n",
    "        a=b\n",
    "        b=c\n",
    "    print(a)"
   ]
  },
  {
   "cell_type": "code",
   "execution_count": 14,
   "metadata": {},
   "outputs": [
    {
     "output_type": "stream",
     "name": "stdout",
     "text": [
      "Negative\n"
     ]
    }
   ],
   "source": [
    "arr = (1,15,-19,4,-7)\n",
    "pos=neg=i=0\n",
    "while(i<=4):\n",
    "    if(arr[i]>=0):\n",
    "        pos=pos+arr[i]\n",
    "    else:\n",
    "        neg=neg+arr[i]\n",
    "    i+=1\n",
    "\n",
    "if(pos>-neg):\n",
    "    print('Positive')\n",
    "else:\n",
    "    print('Negative')"
   ]
  },
  {
   "cell_type": "code",
   "execution_count": 1,
   "metadata": {},
   "outputs": [
    {
     "output_type": "stream",
     "name": "stdout",
     "text": [
      "hbefabjbaofb\neaaohbfbjbfb\n"
     ]
    }
   ],
   "source": [
    "a=input(\"Enter string: \")\n",
    "b=c=\"\"\n",
    "print(a)\n",
    "n=len(a)\n",
    "for i in range(0,n):\n",
    "    if(a[i]=='a' or a[i]=='e' or a[i]=='i' or a[i]=='o' or a[i]=='u'):\n",
    "            b+=a[i]\n",
    "    else:\n",
    "            c+=a[i]\n",
    "    \n",
    "print(b+c)"
   ]
  },
  {
   "cell_type": "code",
   "execution_count": 16,
   "metadata": {},
   "outputs": [
    {
     "output_type": "stream",
     "name": "stdout",
     "text": [
      "(4, 8, 12, 16, 20)\n"
     ]
    }
   ],
   "source": [
    "n=int(input('Enter natural number:'))\n",
    "m=int(input('Enter no. of multiples:'))\n",
    "multiple=range(n,(n*m)+1,n)\n",
    "print(tuple(multiple))"
   ]
  }
 ]
}