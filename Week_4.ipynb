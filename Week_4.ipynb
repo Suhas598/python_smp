{
  "nbformat": 4,
  "nbformat_minor": 0,
  "metadata": {
    "colab": {
      "name": "Week 4",
      "provenance": [],
      "collapsed_sections": [],
      "authorship_tag": "ABX9TyNlWq/WEuXi+qH4SU1uNqg7",
      "include_colab_link": true
    },
    "kernelspec": {
      "name": "python3",
      "display_name": "Python 3"
    },
    "language_info": {
      "name": "python"
    }
  },
  "cells": [
    {
      "cell_type": "markdown",
      "metadata": {
        "id": "view-in-github",
        "colab_type": "text"
      },
      "source": [
        "<a href=\"https://colab.research.google.com/github/Suhas598/python_smp/blob/master/Week_4.ipynb\" target=\"_parent\"><img src=\"https://colab.research.google.com/assets/colab-badge.svg\" alt=\"Open In Colab\"/></a>"
      ]
    },
    {
      "cell_type": "code",
      "metadata": {
        "id": "G_sQ0J_CauZA"
      },
      "source": [
        "class Car:\n",
        "  wheels = 4\n",
        "\n",
        "  def __init__(self, model, name, year, color, hp):\n",
        "      print(\"Car created\")\n",
        "      self.model = model\n",
        "      self.name =  name\n",
        "      self.year = year\n",
        "      self.color = color\n",
        "      self.hp = hp\n",
        "  def attributes(self):\n",
        "      print(\"This car is a\",self.model,self.name,self.color,\"made in\", self.year, \"with\",self.hp,\"hp\")\n",
        "  def namechange(self, name):\n",
        "      self.name = name\n",
        "  def colorchange(self, color):\n",
        "      self.color = color"
      ],
      "execution_count": 19,
      "outputs": []
    },
    {
      "cell_type": "code",
      "metadata": {
        "colab": {
          "base_uri": "https://localhost:8080/"
        },
        "id": "CtRDsd6teMdB",
        "outputId": "23ec7c80-6fb3-457a-981d-2cc2a5447cc6"
      },
      "source": [
        "c1 = Car(\"XY\", \"Qwerty\", 2021, \"Blue\", 250)\n",
        "c1.attributes()\n",
        "c1.namechange(\"Asdfgh\")\n",
        "c1.attributes()\n",
        "c1.colorchange(\"Grey\")\n",
        "c1.attributes()"
      ],
      "execution_count": 21,
      "outputs": [
        {
          "output_type": "stream",
          "text": [
            "Car created\n",
            "This car is a XY Qwerty Blue made in 2021 with 250 hp\n",
            "This car is a XY Asdfgh Blue made in 2021 with 250 hp\n",
            "This car is a XY Asdfgh Grey made in 2021 with 250 hp\n"
          ],
          "name": "stdout"
        }
      ]
    },
    {
      "cell_type": "markdown",
      "metadata": {
        "id": "roDfr776hHgZ"
      },
      "source": [
        "Q2"
      ]
    },
    {
      "cell_type": "code",
      "metadata": {
        "colab": {
          "base_uri": "https://localhost:8080/"
        },
        "id": "631VBvT4hH-4",
        "outputId": "86d7b759-cb6b-4f50-c4ff-e0eb79d9c4ec"
      },
      "source": [
        "str1= \"Coding is fun\"\n",
        "str2 = [str1[i:i+3] for i in range(0,len(str1),3)]\n",
        "print(str2)\n",
        "print(\" \".join(set(str2)))"
      ],
      "execution_count": 63,
      "outputs": [
        {
          "output_type": "stream",
          "text": [
            "['Cod', 'ing', ' is', ' fu', 'n']\n",
            "Cod  fu n  is ing\n"
          ],
          "name": "stdout"
        }
      ]
    },
    {
      "cell_type": "markdown",
      "metadata": {
        "id": "DTaYQEKHhEJu"
      },
      "source": [
        "Q3"
      ]
    },
    {
      "cell_type": "code",
      "metadata": {
        "id": "TLtfVKkMhGWg"
      },
      "source": [
        "class Student:\n",
        "  def __init__(self, Roll, Phone, Grade, Name):\n",
        "    print(\"Student info\")\n",
        "    self.Roll = Roll\n",
        "    self.Phone = Phone\n",
        "    self.Grade = Grade\n",
        "    self.Name = Name\n",
        "  def info(self):\n",
        "    print(\"Name:\", self.Name, \"\\nGrade:\",self.Grade,\"\\nRoll:\",self.Roll,\"\\nPhone:\",self.Phone)"
      ],
      "execution_count": 27,
      "outputs": []
    },
    {
      "cell_type": "code",
      "metadata": {
        "colab": {
          "base_uri": "https://localhost:8080/"
        },
        "id": "7tkN-BmCh-cH",
        "outputId": "e3b61d2f-b709-4de0-9d9f-9bc99152984a"
      },
      "source": [
        "s1 = Student(261,9876543210,\"9th grade\",\"Suhas\")\n",
        "s1.info()"
      ],
      "execution_count": 28,
      "outputs": [
        {
          "output_type": "stream",
          "text": [
            "Student info\n",
            "Name: Suhas \n",
            "Grade: 9th grade \n",
            "Roll: 261 \n",
            "Phone: 9876543210\n"
          ],
          "name": "stdout"
        }
      ]
    },
    {
      "cell_type": "code",
      "metadata": {
        "id": "qSe04AlKk3nH"
      },
      "source": [
        "class Sports(Student):\n",
        "  def __init__(self, Roll, Phone, Grade, Name, Sport):\n",
        "    self.Sport = Sport\n",
        "    self.Roll = Roll\n",
        "    self.Phone = Phone\n",
        "    self.Grade = Grade\n",
        "    self.Name = Name\n",
        "  def sportPlayed(self):\n",
        "    print(self.Name, \"plays\", self.Sport)\n",
        "  def changePhone(self, Phone):\n",
        "    self.Phone = Phone\n",
        "    print(\"Phone number changed\\n\")\n",
        "  def changeSport(self, Sport):\n",
        "    self.Sport = Sport\n",
        "  def __del__(self):\n",
        "    print(self.Name + \" doesnt play sports any more\")\n"
      ],
      "execution_count": 54,
      "outputs": []
    },
    {
      "cell_type": "code",
      "metadata": {
        "colab": {
          "base_uri": "https://localhost:8080/"
        },
        "id": "VCHEQBXrn6go",
        "outputId": "2daf5d55-6449-4ac9-8aad-20697474ba71"
      },
      "source": [
        "ss1 = Sports(261,9876543210,\"9th grade\",\"Suhas\", \"Basketball\")\n",
        "ss1.sportPlayed()\n",
        "ss1.changePhone(1234567890)\n",
        "ss1.info()\n",
        "ss1.changeSport(\"Cricket\\n\")\n",
        "ss1.sportPlayed()\n",
        "\n",
        "del ss1\n"
      ],
      "execution_count": 55,
      "outputs": [
        {
          "output_type": "stream",
          "text": [
            "Suhas plays Basketball\n",
            "Phone number changed\n",
            "\n",
            "Name: Suhas \n",
            "Grade: 9th grade \n",
            "Roll: 261 \n",
            "Phone: 1234567890\n",
            "Suhas plays Cricket\n",
            "\n",
            "Suhas doesnt play sports any more\n"
          ],
          "name": "stdout"
        }
      ]
    }
  ]
}